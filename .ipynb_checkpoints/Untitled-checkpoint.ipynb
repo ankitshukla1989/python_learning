{
 "cells": [
  {
   "cell_type": "code",
   "execution_count": 1,
   "metadata": {},
   "outputs": [
    {
     "name": "stdout",
     "output_type": "stream",
     "text": [
      "3\n"
     ]
    }
   ],
   "source": [
    "a=3\n",
    "print (a)"
   ]
  },
  {
   "cell_type": "code",
   "execution_count": 43,
   "metadata": {},
   "outputs": [
    {
     "name": "stdout",
     "output_type": "stream",
     "text": [
      "Enter first number :-5\n",
      "Enter second number :-4\n",
      "Enter third number :-6\n",
      "5.0\n"
     ]
    }
   ],
   "source": [
    "##### Average of three numbers\n",
    "#input from users\n",
    "a = int(input(\"Enter first number :-\"))\n",
    "b= int(input(\"Enter second number :-\"))\n",
    "c= int(input(\"Enter third number :-\"))\n",
    "# d = int(input(\"Enter the forth number\"))\n",
    "avereg=(a+b+c)/3\n",
    "print(avereg)\n",
    "\n"
   ]
  },
  {
   "cell_type": "code",
   "execution_count": 52,
   "metadata": {},
   "outputs": [
    {
     "name": "stdout",
     "output_type": "stream",
     "text": [
      "Enter first number :--6\n",
      "Negative\n"
     ]
    }
   ],
   "source": [
    "# Check number\n",
    "a = int(input(\"Enter first number :-\"))\n",
    "if a>0:\n",
    "    print(\"Positive Number\")\n",
    "elif a<0 :\n",
    "        print(\"Negative\")\n",
    "else:\n",
    "            print(\"Zero\")\n",
    "    \n",
    "        \n",
    "        "
   ]
  },
  {
   "cell_type": "code",
   "execution_count": 4,
   "metadata": {},
   "outputs": [
    {
     "name": "stdout",
     "output_type": "stream",
     "text": [
      "Enter number :-4\n",
      "0\n",
      "1\n",
      "2\n",
      "3\n"
     ]
    }
   ],
   "source": [
    "#print number from 1 to N\n",
    "a = int(input(\"Enter number :-\"))\n",
    "for x in range(a):\n",
    "    print(x)\n",
    "\n",
    "\n"
   ]
  },
  {
   "cell_type": "code",
   "execution_count": 15,
   "metadata": {},
   "outputs": [
    {
     "name": "stdout",
     "output_type": "stream",
     "text": [
      "Enter number :-6\n",
      "Even 0.0\n"
     ]
    }
   ],
   "source": [
    "# print even number\n",
    "a = int(input(\"Enter number :-\"))\n",
    "c=1\n",
    "for x in range(a):\n",
    "    #print(x)\n",
    "    c=x/2\n",
    "    if c==0:\n",
    "        print(\"Even\",c)\n",
    "    "
   ]
  },
  {
   "cell_type": "code",
   "execution_count": 8,
   "metadata": {},
   "outputs": [
    {
     "name": "stdout",
     "output_type": "stream",
     "text": [
      "1  ,  2  ,  3  ,  4-----------1234\n"
     ]
    }
   ],
   "source": [
    "a= 1\n",
    "b=2\n",
    "c=3\n",
    "d=4\n",
    "print(a,\" , \", b, \" , \", c , \" , \", d, end=\"-----------\")\n",
    "print(a,b,c,d, sep=\"\")\n",
    "#print(a,b,sep=\";\",end=\"----\")\n",
    "#print(c,d,sep=\";\",end=\"----\")"
   ]
  },
  {
   "cell_type": "markdown",
   "metadata": {},
   "source": [
    "## variable"
   ]
  },
  {
   "cell_type": "code",
   "execution_count": 16,
   "metadata": {},
   "outputs": [
    {
     "name": "stdout",
     "output_type": "stream",
     "text": [
      "Hello\n"
     ]
    },
    {
     "data": {
      "text/plain": [
       "30"
      ]
     },
     "execution_count": 16,
     "metadata": {},
     "output_type": "execute_result"
    }
   ],
   "source": [
    "a=10\n",
    "b=20\n",
    "a+b  # will not display output as its not a last line\n",
    "print(\"Hello\")\n",
    "a+b\n",
    "\n",
    "# Note :- out displays only whatever the last line is but print command can print any of line"
   ]
  },
  {
   "cell_type": "code",
   "execution_count": 17,
   "metadata": {},
   "outputs": [
    {
     "name": "stdout",
     "output_type": "stream",
     "text": [
      "30\n"
     ]
    }
   ],
   "source": [
    "a=10\n",
    "b=20\n",
    "sum =a+b\n",
    "print(sum)"
   ]
  },
  {
   "cell_type": "markdown",
   "metadata": {},
   "source": [
    "Note :- variable can be lower case, uppercase, underscore, digit from 0 to 1\n",
    "2:- can not start with digit\n",
    "3:- can start with underscore"
   ]
  },
  {
   "cell_type": "code",
   "execution_count": 18,
   "metadata": {},
   "outputs": [
    {
     "name": "stdout",
     "output_type": "stream",
     "text": [
      "multiple\n"
     ]
    }
   ],
   "source": [
    "a = 10\n",
    "b = 20 \n",
    "multiple = a*b\n",
    "print(\"multiple\")\n"
   ]
  },
  {
   "cell_type": "code",
   "execution_count": 19,
   "metadata": {},
   "outputs": [
    {
     "name": "stdout",
     "output_type": "stream",
     "text": [
      "200\n"
     ]
    }
   ],
   "source": [
    "a = 10\n",
    "b = 20 \n",
    "multiple = a*b\n",
    "print(multiple)"
   ]
  },
  {
   "cell_type": "markdown",
   "metadata": {},
   "source": [
    "## Assigning different type of data to a variable:-"
   ]
  },
  {
   "cell_type": "code",
   "execution_count": 20,
   "metadata": {},
   "outputs": [
    {
     "data": {
      "text/plain": [
       "'hello'"
      ]
     },
     "execution_count": 20,
     "metadata": {},
     "output_type": "execute_result"
    }
   ],
   "source": [
    "a= 20\n",
    "a= 20\n",
    "a= \"hello\"\n",
    "a"
   ]
  },
  {
   "cell_type": "code",
   "execution_count": 23,
   "metadata": {},
   "outputs": [
    {
     "name": "stdout",
     "output_type": "stream",
     "text": [
      "<class 'int'>\n",
      "<class 'str'>\n"
     ]
    }
   ],
   "source": [
    "a =10\n",
    "# Note :- a stors just address of some storage(in this case address of 10)\n",
    "# size of address is same for all data type . so data type declaration not required.\n",
    "\n",
    "# eg in java int stors 4 byte so we are restricting to store only 4 byte in a :) but in python it stors only address which is same for all data type.\n",
    "\n",
    "type(a)\n",
    "print(type(a))\n",
    "a=\"hello\"\n",
    "print(type(a))\n",
    "\n"
   ]
  },
  {
   "cell_type": "code",
   "execution_count": 24,
   "metadata": {},
   "outputs": [
    {
     "name": "stdout",
     "output_type": "stream",
     "text": [
      "abcd\n"
     ]
    }
   ],
   "source": [
    "x = 10\n",
    "x = \"abcd\"\n",
    "print(x)"
   ]
  },
  {
   "cell_type": "code",
   "execution_count": 25,
   "metadata": {},
   "outputs": [
    {
     "name": "stdout",
     "output_type": "stream",
     "text": [
      "<class 'int'>\n"
     ]
    }
   ],
   "source": [
    "x = \"abcd\"\n",
    "x = 10\n",
    "print(type(x))"
   ]
  },
  {
   "cell_type": "code",
   "execution_count": 26,
   "metadata": {},
   "outputs": [
    {
     "name": "stdout",
     "output_type": "stream",
     "text": [
      "<class 'int'>\n",
      "<class 'float'>\n",
      "<class 'complex'>\n"
     ]
    }
   ],
   "source": [
    "# Numbers in Python\n",
    "a1= 23\n",
    "a2= 3.4\n",
    "a3= 4+5j\n",
    "print(type(a1))\n",
    "print(type(a2))\n",
    "print(type(a3))"
   ]
  },
  {
   "cell_type": "code",
   "execution_count": 28,
   "metadata": {},
   "outputs": [
    {
     "name": "stdout",
     "output_type": "stream",
     "text": [
      "1523019056\n",
      "1523019088\n"
     ]
    },
    {
     "data": {
      "text/plain": [
       "11"
      ]
     },
     "execution_count": 28,
     "metadata": {},
     "output_type": "execute_result"
    }
   ],
   "source": [
    "a = 10\n",
    "print(id(a))\n",
    "a = a+1\n",
    "print(id(a))\n",
    "a\n",
    "\n",
    "# proves that a stores diffrent address "
   ]
  },
  {
   "cell_type": "code",
   "execution_count": 29,
   "metadata": {},
   "outputs": [
    {
     "name": "stdout",
     "output_type": "stream",
     "text": [
      "1523019056\n",
      "1523019056\n"
     ]
    }
   ],
   "source": [
    "# Note :- a & b both of them storing the address of same storage that is a\n",
    "\n",
    "a=10\n",
    "b=10\n",
    "print(id(a))\n",
    "print(id(b))"
   ]
  },
  {
   "cell_type": "code",
   "execution_count": null,
   "metadata": {},
   "outputs": [],
   "source": []
  }
 ],
 "metadata": {
  "kernelspec": {
   "display_name": "Python 3",
   "language": "python",
   "name": "python3"
  },
  "language_info": {
   "codemirror_mode": {
    "name": "ipython",
    "version": 3
   },
   "file_extension": ".py",
   "mimetype": "text/x-python",
   "name": "python",
   "nbconvert_exporter": "python",
   "pygments_lexer": "ipython3",
   "version": "3.6.5"
  }
 },
 "nbformat": 4,
 "nbformat_minor": 2
}
